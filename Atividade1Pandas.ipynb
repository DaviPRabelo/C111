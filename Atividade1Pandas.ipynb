{
 "cells": [
  {
   "cell_type": "markdown",
   "metadata": {},
   "source": [
    "Exercício 1 e 2"
   ]
  },
  {
   "cell_type": "code",
   "execution_count": 63,
   "metadata": {},
   "outputs": [
    {
     "name": "stdout",
     "output_type": "stream",
     "text": [
      "Porcentagem no ano 1: 42.14 %\n",
      "Porcentagem no ano 2: 40.31 %\n"
     ]
    }
   ],
   "source": [
    "import pandas as pd\n",
    "import numpy as np\n",
    "\n",
    "\n",
    "seriesAno1 = pd.Series({'Java':16.25,'C':16.04,'Python':9.85})\n",
    "seriesAno2 = pd.Series({'C':16.21,'Python': 12.12,'Java':11.98})\n",
    "print(f\"Porcentagem no ano 1: {np.sum(seriesAno1)} %\")\n",
    "print(f\"Porcentagem no ano 2: {np.sum(seriesAno2)} %\")\n"
   ]
  },
  {
   "cell_type": "markdown",
   "metadata": {},
   "source": [
    "Exercício 3"
   ]
  },
  {
   "cell_type": "code",
   "execution_count": 25,
   "metadata": {},
   "outputs": [
    {
     "name": "stdout",
     "output_type": "stream",
     "text": [
      "Acréscimo/Declínio do uso entre os dois anos:\n",
      "C         0.17\n",
      "Java     -4.27\n",
      "Python    2.27\n",
      "dtype: float64\n"
     ]
    }
   ],
   "source": [
    "seriesDif = seriesAno2 - seriesAno1\n",
    "print(\"Acréscimo/Declínio do uso entre os dois anos:\")\n",
    "print(seriesDif)"
   ]
  },
  {
   "cell_type": "markdown",
   "metadata": {},
   "source": [
    "Exercício 4"
   ]
  },
  {
   "cell_type": "code",
   "execution_count": 26,
   "metadata": {},
   "outputs": [
    {
     "name": "stdout",
     "output_type": "stream",
     "text": [
      "Linguagens que tiveram apenas acréscimo de uso:\n",
      "C         0.17\n",
      "Python    2.27\n",
      "dtype: float64\n"
     ]
    }
   ],
   "source": [
    "print(\"Linguagens que tiveram apenas acréscimo de uso:\")\n",
    "print(seriesDif[seriesDif>0])"
   ]
  },
  {
   "cell_type": "markdown",
   "metadata": {},
   "source": [
    "Exercício 5"
   ]
  },
  {
   "cell_type": "code",
   "execution_count": 28,
   "metadata": {},
   "outputs": [
    {
     "name": "stdout",
     "output_type": "stream",
     "text": [
      "A linguagem mais usada depois de 4 anos é\n",
      "Python    16.66\n",
      "dtype: float64\n"
     ]
    }
   ],
   "source": [
    "seriesDif2Anos = seriesDif*2\n",
    "seriesAno4 = seriesAno2+seriesDif2Anos\n",
    "print(f\"A linguagem mais usada depois de 4 anos é\")\n",
    "print(seriesAno4.nlargest(1))"
   ]
  },
  {
   "cell_type": "markdown",
   "metadata": {},
   "source": [
    "Exercício 6"
   ]
  },
  {
   "cell_type": "code",
   "execution_count": 45,
   "metadata": {},
   "outputs": [
    {
     "name": "stdout",
     "output_type": "stream",
     "text": [
      "A média dos números da coluna 'X' que são menores de 30 é: 17.5\n"
     ]
    }
   ],
   "source": [
    "np.random.seed(10)\n",
    "\n",
    "df = pd.DataFrame(index=['A','B','C','D','E'],columns=['W','X','Y','Z'],data= np.random.randint(1,50,[5,4]))\n",
    "\n",
    "x = df['X']\n",
    "\n",
    "print(f\"A média dos números da coluna 'X' que são menores de 30 é: {np.mean(x[x<30])}\")\n",
    "\n"
   ]
  },
  {
   "cell_type": "markdown",
   "metadata": {},
   "source": [
    "Exercício 7"
   ]
  },
  {
   "cell_type": "code",
   "execution_count": 51,
   "metadata": {},
   "outputs": [
    {
     "name": "stdout",
     "output_type": "stream",
     "text": [
      "A média dos elementos da linha 'D' é: 34.5\n",
      "A soma dos elementos da linha 'E' é: 122\n"
     ]
    }
   ],
   "source": [
    "d = df.loc['D']\n",
    "print(f\"A média dos elementos da linha 'D' é: {np.mean(d)}\")\n",
    "e = df.iloc[4]\n",
    "print(f\"A soma dos elementos da linha 'E' é: {np.sum(e)}\")\n"
   ]
  },
  {
   "cell_type": "markdown",
   "metadata": {},
   "source": [
    "Exercício 8"
   ]
  },
  {
   "cell_type": "code",
   "execution_count": 62,
   "metadata": {},
   "outputs": [
    {
     "name": "stdout",
     "output_type": "stream",
     "text": [
      "Matriz após o slincing\n",
      "    X   Y\n",
      "A  37  16\n",
      "C   9  10\n",
      "E  48  12\n",
      "Soma das colunas\n",
      "X    94\n",
      "Y    38\n",
      "dtype: int64\n",
      "Soma das linhas\n",
      "A    53\n",
      "C    19\n",
      "E    60\n",
      "dtype: int64\n"
     ]
    }
   ],
   "source": [
    "ex8 = df.loc[['A', 'C', 'E'],['X','Y']]\n",
    "print(\"Matriz após o slincing\")\n",
    "print(ex8)\n",
    "\n",
    "print(\"Soma das colunas\")\n",
    "print(np.sum(ex8, axis= 0))\n",
    "print(\"Soma das linhas\")\n",
    "print(np.sum(ex8, axis= 1))"
   ]
  }
 ],
 "metadata": {
  "kernelspec": {
   "display_name": ".venv",
   "language": "python",
   "name": "python3"
  },
  "language_info": {
   "codemirror_mode": {
    "name": "ipython",
    "version": 3
   },
   "file_extension": ".py",
   "mimetype": "text/x-python",
   "name": "python",
   "nbconvert_exporter": "python",
   "pygments_lexer": "ipython3",
   "version": "3.13.0"
  }
 },
 "nbformat": 4,
 "nbformat_minor": 2
}
