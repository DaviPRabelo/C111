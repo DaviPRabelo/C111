{
 "cells": [
  {
   "cell_type": "code",
   "execution_count": 25,
   "metadata": {},
   "outputs": [
    {
     "name": "stdout",
     "output_type": "stream",
     "text": [
      "Paises pertencentes a Oceania\n",
      "3            American Samoa \n",
      "11                Australia \n",
      "47             Cook Islands \n",
      "67                     Fiji \n",
      "71         French Polynesia \n",
      "83                     Guam \n",
      "108                Kiribati \n",
      "130        Marshall Islands \n",
      "136    Micronesia, Fed. St. \n",
      "144                   Nauru \n",
      "148           New Caledonia \n",
      "149             New Zealand \n",
      "153      N. Mariana Islands \n",
      "157                   Palau \n",
      "159        Papua New Guinea \n",
      "176                   Samoa \n",
      "187         Solomon Islands \n",
      "203                   Tonga \n",
      "209                  Tuvalu \n",
      "217                 Vanuatu \n",
      "221       Wallis and Futuna \n",
      "Name: Country, dtype: object\n",
      "\n",
      "Quantidade de paises na Oceania\n",
      "21\n"
     ]
    }
   ],
   "source": [
    "import pandas as pd\n",
    "import numpy as np\n",
    "\n",
    "dfPaises = pd.read_csv('paises.csv', delimiter=';')\n",
    "\n",
    "regiaoOce = dfPaises[dfPaises['Region'].str.contains('Oceania',case=False,na=False)]\n",
    "print(\"Paises pertencentes a Oceania\")\n",
    "print(regiaoOce[\"Country\"])\n",
    "print('')\n",
    "print(\"Quantidade de paises na Oceania\")\n",
    "print(regiaoOce.shape[0])\n"
   ]
  },
  {
   "cell_type": "markdown",
   "metadata": {},
   "source": [
    "Exercicio 2"
   ]
  },
  {
   "cell_type": "code",
   "execution_count": 24,
   "metadata": {},
   "outputs": [
    {
     "name": "stdout",
     "output_type": "stream",
     "text": [
      "Country                           China \n",
      "Region     ASIA (EX. NEAR EAST)         \n",
      "Name: 42, dtype: object\n"
     ]
    }
   ],
   "source": [
    "\n",
    "pais_mais_populoso = dfPaises.loc[dfPaises['Population'].idxmax()]\n",
    "print(pais_mais_populoso[0:2])\n"
   ]
  },
  {
   "cell_type": "markdown",
   "metadata": {},
   "source": [
    "Exercício 3"
   ]
  },
  {
   "cell_type": "code",
   "execution_count": 28,
   "metadata": {},
   "outputs": [
    {
     "name": "stdout",
     "output_type": "stream",
     "text": [
      "Region\n",
      "ASIA (EX. NEAR EAST)                   79.553571\n",
      "BALTICS                                99.733333\n",
      "C.W. OF IND. STATES                    98.725000\n",
      "EASTERN EUROPE                         72.816667\n",
      "LATIN AMER. & CARIB                    88.640000\n",
      "NEAR EAST                              69.581250\n",
      "NORTHERN AFRICA                        56.033333\n",
      "NORTHERN AMERICA                       78.200000\n",
      "OCEANIA                                71.914286\n",
      "SUB-SAHARAN AFRICA                     61.284314\n",
      "WESTERN EUROPE                         80.821429\n",
      "Name: Literacy (%), dtype: float64\n"
     ]
    }
   ],
   "source": [
    "regiao= dfPaises.groupby('Region')\n",
    "print(regiao[\"Literacy (%)\"].mean())"
   ]
  },
  {
   "cell_type": "markdown",
   "metadata": {},
   "source": [
    "Exercício 4"
   ]
  },
  {
   "cell_type": "code",
   "execution_count": 29,
   "metadata": {},
   "outputs": [],
   "source": [
    "noCoast = dfPaises[dfPaises['Coastline (coast/area ratio)']==0]\n",
    "\n",
    "noCoast['Country'].to_csv('noCoast.csv',sep=';')"
   ]
  },
  {
   "cell_type": "markdown",
   "metadata": {},
   "source": [
    "Exercício 5"
   ]
  },
  {
   "cell_type": "code",
   "execution_count": 35,
   "metadata": {},
   "outputs": [
    {
     "name": "stdout",
     "output_type": "stream",
     "text": [
      "0        Urgent\n",
      "1      Balanced\n",
      "2      Balanced\n",
      "3      Balanced\n",
      "4      Balanced\n",
      "         ...   \n",
      "222    Balanced\n",
      "223    Balanced\n",
      "224    Balanced\n",
      "225      Urgent\n",
      "226      Urgent\n",
      "Name: Humanitarian Help, Length: 227, dtype: object\n"
     ]
    }
   ],
   "source": [
    "def clas_help(taxa_mortalidade):\n",
    "    if taxa_mortalidade < 9:\n",
    "        return 'Balanced'\n",
    "    else:\n",
    "        return 'Urgent'\n",
    "    \n",
    "dfPaises['Humanitarian Help'] = dfPaises['Deathrate'].apply(clas_help)\n",
    "print(dfPaises['Humanitarian Help'])"
   ]
  }
 ],
 "metadata": {
  "kernelspec": {
   "display_name": ".venv",
   "language": "python",
   "name": "python3"
  },
  "language_info": {
   "codemirror_mode": {
    "name": "ipython",
    "version": 3
   },
   "file_extension": ".py",
   "mimetype": "text/x-python",
   "name": "python",
   "nbconvert_exporter": "python",
   "pygments_lexer": "ipython3",
   "version": "3.13.0"
  }
 },
 "nbformat": 4,
 "nbformat_minor": 2
}
